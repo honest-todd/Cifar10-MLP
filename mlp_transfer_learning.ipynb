{
  "nbformat": 4,
  "nbformat_minor": 0,
  "metadata": {
    "accelerator": "GPU",
    "colab": {
      "name": "mlp_transfer_learning.ipynb",
      "provenance": [],
      "collapsed_sections": [],
      "toc_visible": true
    },
    "kernelspec": {
      "display_name": "Python 3",
      "name": "python3"
    },
    "widgets": {
      "application/vnd.jupyter.widget-state+json": {
        "8103ae8203864d61b548260eca60d06c": {
          "model_module": "@jupyter-widgets/controls",
          "model_name": "HBoxModel",
          "state": {
            "_view_name": "HBoxView",
            "_dom_classes": [],
            "_model_name": "HBoxModel",
            "_view_module": "@jupyter-widgets/controls",
            "_model_module_version": "1.5.0",
            "_view_count": null,
            "_view_module_version": "1.5.0",
            "box_style": "",
            "layout": "IPY_MODEL_fc723d41624a4640bd58179b5a128157",
            "_model_module": "@jupyter-widgets/controls",
            "children": [
              "IPY_MODEL_7451461048fc44ad9ee91c85b5c50181",
              "IPY_MODEL_660fa57200c1452c8b3d9118c9b4ab98"
            ]
          }
        },
        "fc723d41624a4640bd58179b5a128157": {
          "model_module": "@jupyter-widgets/base",
          "model_name": "LayoutModel",
          "state": {
            "_view_name": "LayoutView",
            "grid_template_rows": null,
            "right": null,
            "justify_content": null,
            "_view_module": "@jupyter-widgets/base",
            "overflow": null,
            "_model_module_version": "1.2.0",
            "_view_count": null,
            "flex_flow": null,
            "width": null,
            "min_width": null,
            "border": null,
            "align_items": null,
            "bottom": null,
            "_model_module": "@jupyter-widgets/base",
            "top": null,
            "grid_column": null,
            "overflow_y": null,
            "overflow_x": null,
            "grid_auto_flow": null,
            "grid_area": null,
            "grid_template_columns": null,
            "flex": null,
            "_model_name": "LayoutModel",
            "justify_items": null,
            "grid_row": null,
            "max_height": null,
            "align_content": null,
            "visibility": null,
            "align_self": null,
            "height": null,
            "min_height": null,
            "padding": null,
            "grid_auto_rows": null,
            "grid_gap": null,
            "max_width": null,
            "order": null,
            "_view_module_version": "1.2.0",
            "grid_template_areas": null,
            "object_position": null,
            "object_fit": null,
            "grid_auto_columns": null,
            "margin": null,
            "display": null,
            "left": null
          }
        },
        "7451461048fc44ad9ee91c85b5c50181": {
          "model_module": "@jupyter-widgets/controls",
          "model_name": "FloatProgressModel",
          "state": {
            "_view_name": "ProgressView",
            "style": "IPY_MODEL_7d3e5828cd994fe98447ed6a6bdacd34",
            "_dom_classes": [],
            "description": "100%",
            "_model_name": "FloatProgressModel",
            "bar_style": "success",
            "max": 10,
            "_view_module": "@jupyter-widgets/controls",
            "_model_module_version": "1.5.0",
            "value": 10,
            "_view_count": null,
            "_view_module_version": "1.5.0",
            "orientation": "horizontal",
            "min": 0,
            "description_tooltip": null,
            "_model_module": "@jupyter-widgets/controls",
            "layout": "IPY_MODEL_b597749315914afc813244dd8f322655"
          }
        },
        "660fa57200c1452c8b3d9118c9b4ab98": {
          "model_module": "@jupyter-widgets/controls",
          "model_name": "HTMLModel",
          "state": {
            "_view_name": "HTMLView",
            "style": "IPY_MODEL_20a343ceec3d4bfc9421893a60c6da31",
            "_dom_classes": [],
            "description": "",
            "_model_name": "HTMLModel",
            "placeholder": "​",
            "_view_module": "@jupyter-widgets/controls",
            "_model_module_version": "1.5.0",
            "value": " 10/10 [00:46&lt;00:00,  4.67s/it]",
            "_view_count": null,
            "_view_module_version": "1.5.0",
            "description_tooltip": null,
            "_model_module": "@jupyter-widgets/controls",
            "layout": "IPY_MODEL_2a941a8d19974d6aa81e0e8c59ea10c2"
          }
        },
        "7d3e5828cd994fe98447ed6a6bdacd34": {
          "model_module": "@jupyter-widgets/controls",
          "model_name": "ProgressStyleModel",
          "state": {
            "_view_name": "StyleView",
            "_model_name": "ProgressStyleModel",
            "description_width": "initial",
            "_view_module": "@jupyter-widgets/base",
            "_model_module_version": "1.5.0",
            "_view_count": null,
            "_view_module_version": "1.2.0",
            "bar_color": null,
            "_model_module": "@jupyter-widgets/controls"
          }
        },
        "b597749315914afc813244dd8f322655": {
          "model_module": "@jupyter-widgets/base",
          "model_name": "LayoutModel",
          "state": {
            "_view_name": "LayoutView",
            "grid_template_rows": null,
            "right": null,
            "justify_content": null,
            "_view_module": "@jupyter-widgets/base",
            "overflow": null,
            "_model_module_version": "1.2.0",
            "_view_count": null,
            "flex_flow": null,
            "width": null,
            "min_width": null,
            "border": null,
            "align_items": null,
            "bottom": null,
            "_model_module": "@jupyter-widgets/base",
            "top": null,
            "grid_column": null,
            "overflow_y": null,
            "overflow_x": null,
            "grid_auto_flow": null,
            "grid_area": null,
            "grid_template_columns": null,
            "flex": null,
            "_model_name": "LayoutModel",
            "justify_items": null,
            "grid_row": null,
            "max_height": null,
            "align_content": null,
            "visibility": null,
            "align_self": null,
            "height": null,
            "min_height": null,
            "padding": null,
            "grid_auto_rows": null,
            "grid_gap": null,
            "max_width": null,
            "order": null,
            "_view_module_version": "1.2.0",
            "grid_template_areas": null,
            "object_position": null,
            "object_fit": null,
            "grid_auto_columns": null,
            "margin": null,
            "display": null,
            "left": null
          }
        },
        "20a343ceec3d4bfc9421893a60c6da31": {
          "model_module": "@jupyter-widgets/controls",
          "model_name": "DescriptionStyleModel",
          "state": {
            "_view_name": "StyleView",
            "_model_name": "DescriptionStyleModel",
            "description_width": "",
            "_view_module": "@jupyter-widgets/base",
            "_model_module_version": "1.5.0",
            "_view_count": null,
            "_view_module_version": "1.2.0",
            "_model_module": "@jupyter-widgets/controls"
          }
        },
        "2a941a8d19974d6aa81e0e8c59ea10c2": {
          "model_module": "@jupyter-widgets/base",
          "model_name": "LayoutModel",
          "state": {
            "_view_name": "LayoutView",
            "grid_template_rows": null,
            "right": null,
            "justify_content": null,
            "_view_module": "@jupyter-widgets/base",
            "overflow": null,
            "_model_module_version": "1.2.0",
            "_view_count": null,
            "flex_flow": null,
            "width": null,
            "min_width": null,
            "border": null,
            "align_items": null,
            "bottom": null,
            "_model_module": "@jupyter-widgets/base",
            "top": null,
            "grid_column": null,
            "overflow_y": null,
            "overflow_x": null,
            "grid_auto_flow": null,
            "grid_area": null,
            "grid_template_columns": null,
            "flex": null,
            "_model_name": "LayoutModel",
            "justify_items": null,
            "grid_row": null,
            "max_height": null,
            "align_content": null,
            "visibility": null,
            "align_self": null,
            "height": null,
            "min_height": null,
            "padding": null,
            "grid_auto_rows": null,
            "grid_gap": null,
            "max_width": null,
            "order": null,
            "_view_module_version": "1.2.0",
            "grid_template_areas": null,
            "object_position": null,
            "object_fit": null,
            "grid_auto_columns": null,
            "margin": null,
            "display": null,
            "left": null
          }
        },
        "fe2bf3f316594b58a66bac0650b0537f": {
          "model_module": "@jupyter-widgets/controls",
          "model_name": "HBoxModel",
          "state": {
            "_view_name": "HBoxView",
            "_dom_classes": [],
            "_model_name": "HBoxModel",
            "_view_module": "@jupyter-widgets/controls",
            "_model_module_version": "1.5.0",
            "_view_count": null,
            "_view_module_version": "1.5.0",
            "box_style": "",
            "layout": "IPY_MODEL_841f3693f89042dbbc9b8cb896359f86",
            "_model_module": "@jupyter-widgets/controls",
            "children": [
              "IPY_MODEL_1f15e9a29bc24ed59dc5f9eb23d915fd",
              "IPY_MODEL_3fd68b63ba53442fa8fe3cefdb9d52f9"
            ]
          }
        },
        "841f3693f89042dbbc9b8cb896359f86": {
          "model_module": "@jupyter-widgets/base",
          "model_name": "LayoutModel",
          "state": {
            "_view_name": "LayoutView",
            "grid_template_rows": null,
            "right": null,
            "justify_content": null,
            "_view_module": "@jupyter-widgets/base",
            "overflow": null,
            "_model_module_version": "1.2.0",
            "_view_count": null,
            "flex_flow": null,
            "width": null,
            "min_width": null,
            "border": null,
            "align_items": null,
            "bottom": null,
            "_model_module": "@jupyter-widgets/base",
            "top": null,
            "grid_column": null,
            "overflow_y": null,
            "overflow_x": null,
            "grid_auto_flow": null,
            "grid_area": null,
            "grid_template_columns": null,
            "flex": null,
            "_model_name": "LayoutModel",
            "justify_items": null,
            "grid_row": null,
            "max_height": null,
            "align_content": null,
            "visibility": null,
            "align_self": null,
            "height": null,
            "min_height": null,
            "padding": null,
            "grid_auto_rows": null,
            "grid_gap": null,
            "max_width": null,
            "order": null,
            "_view_module_version": "1.2.0",
            "grid_template_areas": null,
            "object_position": null,
            "object_fit": null,
            "grid_auto_columns": null,
            "margin": null,
            "display": null,
            "left": null
          }
        },
        "1f15e9a29bc24ed59dc5f9eb23d915fd": {
          "model_module": "@jupyter-widgets/controls",
          "model_name": "FloatProgressModel",
          "state": {
            "_view_name": "ProgressView",
            "style": "IPY_MODEL_598a57004e154be5acae51ceaa2c5de4",
            "_dom_classes": [],
            "description": "100%",
            "_model_name": "FloatProgressModel",
            "bar_style": "success",
            "max": 500,
            "_view_module": "@jupyter-widgets/controls",
            "_model_module_version": "1.5.0",
            "value": 500,
            "_view_count": null,
            "_view_module_version": "1.5.0",
            "orientation": "horizontal",
            "min": 0,
            "description_tooltip": null,
            "_model_module": "@jupyter-widgets/controls",
            "layout": "IPY_MODEL_b782802a50e94d8c8e78c59a6bc9d001"
          }
        },
        "3fd68b63ba53442fa8fe3cefdb9d52f9": {
          "model_module": "@jupyter-widgets/controls",
          "model_name": "HTMLModel",
          "state": {
            "_view_name": "HTMLView",
            "style": "IPY_MODEL_a91878376bf24a44819e27d484b22f6d",
            "_dom_classes": [],
            "description": "",
            "_model_name": "HTMLModel",
            "placeholder": "​",
            "_view_module": "@jupyter-widgets/controls",
            "_model_module_version": "1.5.0",
            "value": " 500/500 [00:00&lt;00:00, 1165.45it/s]",
            "_view_count": null,
            "_view_module_version": "1.5.0",
            "description_tooltip": null,
            "_model_module": "@jupyter-widgets/controls",
            "layout": "IPY_MODEL_2ec53991b4af4794ae2600fdb49b5a0e"
          }
        },
        "598a57004e154be5acae51ceaa2c5de4": {
          "model_module": "@jupyter-widgets/controls",
          "model_name": "ProgressStyleModel",
          "state": {
            "_view_name": "StyleView",
            "_model_name": "ProgressStyleModel",
            "description_width": "initial",
            "_view_module": "@jupyter-widgets/base",
            "_model_module_version": "1.5.0",
            "_view_count": null,
            "_view_module_version": "1.2.0",
            "bar_color": null,
            "_model_module": "@jupyter-widgets/controls"
          }
        },
        "b782802a50e94d8c8e78c59a6bc9d001": {
          "model_module": "@jupyter-widgets/base",
          "model_name": "LayoutModel",
          "state": {
            "_view_name": "LayoutView",
            "grid_template_rows": null,
            "right": null,
            "justify_content": null,
            "_view_module": "@jupyter-widgets/base",
            "overflow": null,
            "_model_module_version": "1.2.0",
            "_view_count": null,
            "flex_flow": null,
            "width": null,
            "min_width": null,
            "border": null,
            "align_items": null,
            "bottom": null,
            "_model_module": "@jupyter-widgets/base",
            "top": null,
            "grid_column": null,
            "overflow_y": null,
            "overflow_x": null,
            "grid_auto_flow": null,
            "grid_area": null,
            "grid_template_columns": null,
            "flex": null,
            "_model_name": "LayoutModel",
            "justify_items": null,
            "grid_row": null,
            "max_height": null,
            "align_content": null,
            "visibility": null,
            "align_self": null,
            "height": null,
            "min_height": null,
            "padding": null,
            "grid_auto_rows": null,
            "grid_gap": null,
            "max_width": null,
            "order": null,
            "_view_module_version": "1.2.0",
            "grid_template_areas": null,
            "object_position": null,
            "object_fit": null,
            "grid_auto_columns": null,
            "margin": null,
            "display": null,
            "left": null
          }
        },
        "a91878376bf24a44819e27d484b22f6d": {
          "model_module": "@jupyter-widgets/controls",
          "model_name": "DescriptionStyleModel",
          "state": {
            "_view_name": "StyleView",
            "_model_name": "DescriptionStyleModel",
            "description_width": "",
            "_view_module": "@jupyter-widgets/base",
            "_model_module_version": "1.5.0",
            "_view_count": null,
            "_view_module_version": "1.2.0",
            "_model_module": "@jupyter-widgets/controls"
          }
        },
        "2ec53991b4af4794ae2600fdb49b5a0e": {
          "model_module": "@jupyter-widgets/base",
          "model_name": "LayoutModel",
          "state": {
            "_view_name": "LayoutView",
            "grid_template_rows": null,
            "right": null,
            "justify_content": null,
            "_view_module": "@jupyter-widgets/base",
            "overflow": null,
            "_model_module_version": "1.2.0",
            "_view_count": null,
            "flex_flow": null,
            "width": null,
            "min_width": null,
            "border": null,
            "align_items": null,
            "bottom": null,
            "_model_module": "@jupyter-widgets/base",
            "top": null,
            "grid_column": null,
            "overflow_y": null,
            "overflow_x": null,
            "grid_auto_flow": null,
            "grid_area": null,
            "grid_template_columns": null,
            "flex": null,
            "_model_name": "LayoutModel",
            "justify_items": null,
            "grid_row": null,
            "max_height": null,
            "align_content": null,
            "visibility": null,
            "align_self": null,
            "height": null,
            "min_height": null,
            "padding": null,
            "grid_auto_rows": null,
            "grid_gap": null,
            "max_width": null,
            "order": null,
            "_view_module_version": "1.2.0",
            "grid_template_areas": null,
            "object_position": null,
            "object_fit": null,
            "grid_auto_columns": null,
            "margin": null,
            "display": null,
            "left": null
          }
        }
      }
    }
  },
  "cells": [
    {
      "cell_type": "code",
      "metadata": {
        "id": "Dmwv9TOEhf4U"
      },
      "source": [
        "import os\n",
        "import numpy as np\n",
        "import torch\n",
        "import torch.nn as nn\n",
        "import pandas as pd\n",
        "import matplotlib.pyplot as plt\n",
        "import matplotlib.image as mpimg\n",
        "import random\n",
        "from skimage import io, transform\n",
        "from skimage.transform import resize\n",
        "import zipfile\n",
        "\n",
        "import torchvision"
      ],
      "execution_count": null,
      "outputs": []
    },
    {
      "cell_type": "markdown",
      "metadata": {
        "id": "6OJ3fUMojfAB"
      },
      "source": [
        "\n",
        "[Project Desc.](https://people.cs.pitt.edu/~kovashka/cs1678_sp21/hw2.html )"
      ]
    },
    {
      "cell_type": "code",
      "metadata": {
        "id": "9U88oPVXzyLz"
      },
      "source": [
        "def fetch_data():\n",
        "  '''\n",
        "    download data to workspace\n",
        "  '''\n",
        "  !wget https://people.cs.pitt.edu/~mzhang/cs1699/cifar10.zip\n",
        "  !mkdir data/\n",
        "  with zipfile.ZipFile(\"cifar10.zip\",\"r\") as z:\n",
        "    z.extractall(\"/data/\")\n",
        "  %rm cifar10.zip\n",
        "  %cd /data/\n",
        "  \n",
        "def get_labels(root_dir):\n",
        "  '''\n",
        "    retrieve labels from root directory and load into a dictionary with corresponding integers for each image type.\n",
        "\n",
        "    input: root_dir -- filepath of dataset\n",
        "    output: dicionary with labels and their corresponding integers\n",
        "  '''\n",
        "  labels = {}\n",
        "  for i, label in enumerate(os.listdir(root_dir)):\n",
        "    labels[i] = label\n",
        "  return labels\n",
        "\n",
        "def organize_data(root_dir):\n",
        "  '''\n",
        "    format data in root directory into a a single dictionary for perfomance enhancments.\n",
        "\n",
        "    input: root_dir -- filepath of dataset\n",
        "    output: dicionary with all images and labels(integers) in a given directory..\n",
        "  '''\n",
        "  imgs  =[]\n",
        "  labels={}\n",
        "  for i, label in enumerate(os.listdir(root_dir)):\n",
        "    labels[i] = label\n",
        "    for img_path in os.listdir(os.path.join(root_dir, label)):\n",
        "      img = mpimg.imread(os.path.join(root_dir, label, img_path))\n",
        "      # resize(img, (224, 244))\n",
        "      imgs.append((i, img))\n",
        "\n",
        "  return imgs"
      ],
      "execution_count": null,
      "outputs": []
    },
    {
      "cell_type": "markdown",
      "metadata": {
        "id": "72U99CKt1nxE"
      },
      "source": [
        ""
      ]
    },
    {
      "cell_type": "code",
      "metadata": {
        "id": "aiz4alz5iphC"
      },
      "source": [
        "class CifarDataset(torch.utils.data.Dataset):\n",
        "\n",
        "  '''\n",
        "    Custom Data Loader\n",
        "  '''\n",
        "\n",
        "  def __init__(self, root_dir, transform=None):\n",
        "    '''\n",
        "      Initializes a dataset containing images and labels.\n",
        "    '''\n",
        "    super().__init__()\n",
        "    fetch_data()\n",
        "    self.root_dir = root_dir\n",
        "    self.labels = get_labels(root_dir)\n",
        "    self.images = organize_data(root_dir)\n",
        "    self.transform = transform\n",
        "\n",
        "  def __len__(self):\n",
        "    '''\n",
        "      Returns the size of the dataset.\n",
        "    '''\n",
        "    return len(self.images)\n",
        "\n",
        "  def __getitem__(self, X):\n",
        "    '''\n",
        "      Returns the index-th data item of the dataset.\n",
        "    '''\n",
        "    if torch.is_tensor(X):\n",
        "            X = X.tolist()\n",
        "\n",
        "    image = self.images[X][1]\n",
        "    label = self.images[X][0]\n",
        "\n",
        "    if self.transform:\n",
        "      image = self.transform(image)\n",
        "\n",
        "    sample = {'image':image, 'label':label}\n",
        "      \n",
        "    return sample"
      ],
      "execution_count": null,
      "outputs": []
    },
    {
      "cell_type": "code",
      "metadata": {
        "id": "pAFYFQm0ObPm"
      },
      "source": [
        "# preproscessing transformations\n",
        "\n",
        "class Rescale(object):\n",
        "    \"\"\"Rescale the image in a sample to a given size.\n",
        "\n",
        "    Args:\n",
        "        output_size (tuple or int): Desired output size. If tuple, output is\n",
        "            matched to output_size. If int, smaller of image edges is matched\n",
        "            to output_size keeping aspect ratio the same.\n",
        "    \"\"\"\n",
        "\n",
        "    def __init__(self, output_size):\n",
        "        assert isinstance(output_size, (int, tuple))\n",
        "        self.output_size = output_size\n",
        "\n",
        "    def __call__(self, sample):\n",
        "        sample = transform.resize(sample, (self.output_size, self.output_size))\n",
        "\n",
        "        return sample\n",
        "\n",
        "class ToTensor(object):\n",
        "    \"\"\"Convert ndarrays in sample to Tensors.\"\"\"\n",
        "    def __call__(self, sample):\n",
        "        sample = torch.Tensor(np.asarray(sample))\n",
        "        return sample\n",
        "\n",
        "class ToHCHW(object):\n",
        "    \"\"\"Swap input dimensions from HWC to CHW (Batch, Channel, Height, Width)\"\"\"\n",
        "    def __call__(self, sample):\n",
        "        sample = torch.Tensor(np.asarray(sample))\n",
        "        sample = sample.permute(2, 0, 1)\n",
        "        return sample"
      ],
      "execution_count": null,
      "outputs": []
    },
    {
      "cell_type": "code",
      "metadata": {
        "colab": {
          "base_uri": "https://localhost:8080/"
        },
        "id": "mruDqGDNxd2K",
        "outputId": "5eb9cc31-9720-4388-a599-46cc7846abbe"
      },
      "source": [
        "train_dataset = CifarDataset('/data/cifar10_train/', transform=torchvision.transforms.Compose([ToTensor()]))\n",
        "train_dataloader = torch.utils.data.DataLoader(train_dataset,\n",
        "                                               batch_size=20,\n",
        "                                               shuffle=True)\n",
        "\n",
        "test_dataset = CifarDataset('/data/cifar10_test/', transform=torchvision.transforms.Compose([ToTensor()]))\n",
        "test_dataloader = torch.utils.data.DataLoader(test_dataset,\n",
        "                                               batch_size=20,\n",
        "                                               shuffle=True)"
      ],
      "execution_count": null,
      "outputs": [
        {
          "output_type": "stream",
          "text": [
            "--2021-03-19 00:19:07--  https://people.cs.pitt.edu/~mzhang/cs1699/cifar10.zip\n",
            "Resolving people.cs.pitt.edu (people.cs.pitt.edu)... 136.142.35.172\n",
            "Connecting to people.cs.pitt.edu (people.cs.pitt.edu)|136.142.35.172|:443... connected.\n",
            "HTTP request sent, awaiting response... 200 OK\n",
            "Length: 147491716 (141M) [application/zip]\n",
            "Saving to: ‘cifar10.zip’\n",
            "\n",
            "cifar10.zip         100%[===================>] 140.66M   285MB/s    in 0.5s    \n",
            "\n",
            "2021-03-19 00:19:08 (285 MB/s) - ‘cifar10.zip’ saved [147491716/147491716]\n",
            "\n",
            "mkdir: cannot create directory ‘data/’: File exists\n",
            "/data\n",
            "--2021-03-19 00:19:44--  https://people.cs.pitt.edu/~mzhang/cs1699/cifar10.zip\n",
            "Resolving people.cs.pitt.edu (people.cs.pitt.edu)... 136.142.35.172\n",
            "Connecting to people.cs.pitt.edu (people.cs.pitt.edu)|136.142.35.172|:443... connected.\n",
            "HTTP request sent, awaiting response... 200 OK\n",
            "Length: 147491716 (141M) [application/zip]\n",
            "Saving to: ‘cifar10.zip’\n",
            "\n",
            "cifar10.zip         100%[===================>] 140.66M   252MB/s    in 0.6s    \n",
            "\n",
            "2021-03-19 00:19:44 (252 MB/s) - ‘cifar10.zip’ saved [147491716/147491716]\n",
            "\n",
            "mkdir: cannot create directory ‘data/’: File exists\n",
            "/data\n"
          ],
          "name": "stdout"
        }
      ]
    },
    {
      "cell_type": "code",
      "metadata": {
        "id": "edUD9PyHkiD9"
      },
      "source": [
        "class MultiLayerPerceptronModel(nn.Module):\n",
        "  '''\n",
        "    3-layer MLP model\n",
        "  '''\n",
        "  def __init__(self, input_size, hidden_size, num_classes):\n",
        "    super().__init__()\n",
        "    self.layer1 = nn.Linear(input_size, hidden_size)\n",
        "    self.layer2 = nn.Dropout(p=0.1)\n",
        "    self.layer3 = nn.ReLU()\n",
        "    self.layer4 = nn.Dropout(p=0.25)\n",
        "    self.layer5 = nn.Linear(hidden_size, num_classes)\n",
        "    \n",
        "  def forward(self, x):\n",
        "    # print(x.shape)\n",
        "    out = self.layer1(x.reshape(-1, 32*32*3))\n",
        "    out = self.layer2(out)\n",
        "    out = self.layer3(out)\n",
        "    out = self.layer4(out)\n",
        "    out = self.layer5(out)\n",
        "    return out"
      ],
      "execution_count": null,
      "outputs": []
    },
    {
      "cell_type": "code",
      "metadata": {
        "id": "bRUsvWxkwby-"
      },
      "source": [
        "# hyperparams\n",
        "input_size = 32*32*3\n",
        "hidden_size = 800\n",
        "learning_rate = 0.0005\n",
        "max_epochs = 10\n",
        "num_classes = 10"
      ],
      "execution_count": null,
      "outputs": []
    },
    {
      "cell_type": "code",
      "metadata": {
        "id": "QEXZwci_XLxo"
      },
      "source": [
        "from tqdm import tqdm_notebook\n",
        "import torch\n",
        "\n",
        "def training(model, dataloader, input_size = input_size, hidden_size=hidden_size, learning_rate=learning_rate, max_epochs=max_epochs):\n",
        "  '''\n",
        "    Performs training on the model\n",
        "  '''\n",
        "\n",
        "  criterion = nn.CrossEntropyLoss()\n",
        "  optimizer = torch.optim.AdamW(model.parameters(), lr=learning_rate) # weight_decay = 0.0001er\n",
        "  scheduler = torch.optim.lr_scheduler.CosineAnnealingLR(optimizer, len(dataloader))\n",
        "\n",
        "  device = 'cuda'\n",
        "  model = model.to(device)\n",
        "\n",
        "  total_epochs = tqdm_notebook(range(max_epochs))\n",
        "  loss_per_sample = []\n",
        "\n",
        "  model.train() \n",
        "  # Training\n",
        "  for epoch in total_epochs:\n",
        "      for i, data in enumerate(dataloader):\n",
        "          images, labels = data['image'], data['label']\n",
        "\n",
        "          # Transfer to GPU\n",
        "          images = images.to(device)\n",
        "          labels = labels.to(device)\n",
        "\n",
        "          # Forward pass\n",
        "          outputs = model(images) \n",
        "          loss = criterion(outputs, labels)\n",
        "          loss_per_sample.append(float(loss))\n",
        "\n",
        "          # Backward and optimize\n",
        "          loss.backward()\n",
        "          optimizer.step()\n",
        "          scheduler.step() # scheduler.step(epoch + i / len)\n",
        "          optimizer.zero_grad()\n",
        "\n",
        "  return loss_per_sample"
      ],
      "execution_count": null,
      "outputs": []
    },
    {
      "cell_type": "code",
      "metadata": {
        "id": "gEwuC8hrfsRh"
      },
      "source": [
        "def evaluation(model, dataloader):\n",
        "  '''\n",
        "    loads the trained model and evaluates its performance on train/test set.\n",
        "\n",
        "    input: train or test set.\n",
        "\n",
        "  '''\n",
        "  batch_to_view = []    # for visual.\n",
        "\n",
        "  criterion = nn.CrossEntropyLoss()\n",
        "\n",
        "  device = 'cuda'\n",
        "  model = model.to(device)\n",
        "\n",
        "  model.eval()\n",
        "  with torch.no_grad():\n",
        "    correct = 0\n",
        "    total = 0\n",
        "    for i, data in enumerate(tqdm_notebook(dataloader)):\n",
        "      images = data['image']\n",
        "      labels = data['label']\n",
        "        \n",
        "      images = images.to(device)\n",
        "      labels = labels.to(device)\n",
        "      outputs = model(images)\n",
        "      _, predicted = torch.max(outputs.data, 1)\n",
        "      total += labels.size(0)\n",
        "      correct += (predicted == labels).sum().item()\n",
        "\n",
        "      # note: just shows loss from last iteration. Not running loss...\n",
        "      loss = criterion(outputs, labels)\n",
        "\n",
        "      if i < 1:\n",
        "        batch_to_view.append(data)\n",
        "\n",
        "\n",
        "    print('loss: {:.2f}'.format(float(loss)))\n",
        "    print('Accuracy of the network on the 10000 test images: {} %'.format(100 * correct / total))\n",
        "\n",
        "  return batch_to_view"
      ],
      "execution_count": null,
      "outputs": []
    },
    {
      "cell_type": "code",
      "metadata": {
        "colab": {
          "base_uri": "https://localhost:8080/",
          "height": 354,
          "referenced_widgets": [
            "8103ae8203864d61b548260eca60d06c",
            "fc723d41624a4640bd58179b5a128157",
            "7451461048fc44ad9ee91c85b5c50181",
            "660fa57200c1452c8b3d9118c9b4ab98",
            "7d3e5828cd994fe98447ed6a6bdacd34",
            "b597749315914afc813244dd8f322655",
            "20a343ceec3d4bfc9421893a60c6da31",
            "2a941a8d19974d6aa81e0e8c59ea10c2",
            "fe2bf3f316594b58a66bac0650b0537f",
            "841f3693f89042dbbc9b8cb896359f86",
            "1f15e9a29bc24ed59dc5f9eb23d915fd",
            "3fd68b63ba53442fa8fe3cefdb9d52f9",
            "598a57004e154be5acae51ceaa2c5de4",
            "b782802a50e94d8c8e78c59a6bc9d001",
            "a91878376bf24a44819e27d484b22f6d",
            "2ec53991b4af4794ae2600fdb49b5a0e"
          ]
        },
        "id": "Nj3iaeZr7Eqy",
        "outputId": "30f9933c-e34c-4456-8f64-3a180279d09e"
      },
      "source": [
        "model = MultiLayerPerceptronModel(input_size, hidden_size, num_classes)\n",
        "loss_per_sample = training(model, train_dataloader)\n",
        "batch_to_view = evaluation(model, test_dataloader)\n",
        "imshow(batch_to_view)"
      ],
      "execution_count": null,
      "outputs": [
        {
          "output_type": "stream",
          "text": [
            "/usr/local/lib/python3.7/dist-packages/ipykernel_launcher.py:16: TqdmDeprecationWarning: This function will be removed in tqdm==5.0.0\n",
            "Please use `tqdm.notebook.tqdm` instead of `tqdm.tqdm_notebook`\n",
            "  app.launch_new_instance()\n"
          ],
          "name": "stderr"
        },
        {
          "output_type": "display_data",
          "data": {
            "application/vnd.jupyter.widget-view+json": {
              "model_id": "8103ae8203864d61b548260eca60d06c",
              "version_minor": 0,
              "version_major": 2
            },
            "text/plain": [
              "HBox(children=(FloatProgress(value=0.0, max=10.0), HTML(value='')))"
            ]
          },
          "metadata": {
            "tags": []
          }
        },
        {
          "output_type": "stream",
          "text": [
            "\n"
          ],
          "name": "stdout"
        },
        {
          "output_type": "stream",
          "text": [
            "/usr/local/lib/python3.7/dist-packages/ipykernel_launcher.py:19: TqdmDeprecationWarning: This function will be removed in tqdm==5.0.0\n",
            "Please use `tqdm.notebook.tqdm` instead of `tqdm.tqdm_notebook`\n"
          ],
          "name": "stderr"
        },
        {
          "output_type": "display_data",
          "data": {
            "application/vnd.jupyter.widget-view+json": {
              "model_id": "fe2bf3f316594b58a66bac0650b0537f",
              "version_minor": 0,
              "version_major": 2
            },
            "text/plain": [
              "HBox(children=(FloatProgress(value=0.0, max=500.0), HTML(value='')))"
            ]
          },
          "metadata": {
            "tags": []
          }
        },
        {
          "output_type": "stream",
          "text": [
            "\n",
            "loss: 1.65\n",
            "Accuracy of the network on the 10000 test images: 43.27 %\n"
          ],
          "name": "stdout"
        },
        {
          "output_type": "display_data",
          "data": {
            "image/png": "[encoded data removed]",
            "text/plain": [
              "<Figure size 432x288 with 4 Axes>"
            ]
          },
          "metadata": {
            "tags": [],
            "needs_background": "light"
          }
        }
      ]
    },
    {
      "cell_type": "code",
      "metadata": {
        "id": "Xo4u8wsAhzF8"
      },
      "source": [
        "# loss curve\n",
        "\n",
        "figure = plt.scatter(list(range(0, len(loss_per_sample))), loss_per_sample)\n",
        "plt.xlabel('Training iteration')\n",
        "plt.ylabel('Error (abs) ')\n",
        "plt.show()"
      ],
      "execution_count": null,
      "outputs": []
    },
    {
      "cell_type": "code",
      "metadata": {
        "id": "zvk4KtQpYcIe"
      },
      "source": [
        "def imshow(samples, transform=None):\n",
        "    '''\n",
        "      Shows images i=with predicted labels.\n",
        "    '''\n",
        "    f, figure = plt.subplots(1,4)\n",
        "\n",
        "    for i in range(4):\n",
        "      if transform:\n",
        "        figure[i].imshow(samples[0]['image'][i].permute(1, 2, 0))   #convert back to HWC\n",
        "      else:\n",
        "        figure[i].imshow(samples[0]['image'][i])\n",
        "\n",
        "      figure[i].set_title(transformed_test_dataset.labels[int(samples[0]['label'][i])])"
      ],
      "execution_count": null,
      "outputs": []
    },
    {
      "cell_type": "code",
      "metadata": {
        "id": "MyZKh9SBwhsW"
      },
      "source": [
        "# Evaluating Different Hyperparamaters\n",
        "\n",
        "# I experimented with the batch size, hidden size, dropout, learning rate, lr_schedueler and optimizer type.\n",
        "# I did my all my tests on 15 epochs and wrote down the first output recieved. \n",
        "# I found that a combination of AdamW and CosineAnnealingLR with a batch size arround 20 and hidden size of 450 yielded the best results. \n",
        "# If I were to do further testing I would try out more Optimizers such as ASGD, AdaGrad and AdaMax.\n",
        "\n",
        "# Test Results\n",
        "\n",
        "# batch size    - 10      | 15      | 20\n",
        "#   * accuracy  - 51.41%  | 51.96%  | 55.70%\n",
        "#   * loss      - 1.68    | 1.03    | 1.70\n",
        "\n",
        "# hidden size   - 100     | 450     | 800\n",
        "#   * accuracy  - 45.47%  | 51.96%  | 52.21% \n",
        "#   * loss      - 1.57    | 0.97    | 2.28 \n",
        "\n",
        "# dropout       - 0.25    | 0.5     | .8\n",
        "#   * accuracy  - 54.97%  | 46.94%  | 38.78%\n",
        "#   * loss      - 1.01    | 1.70    | 2.01\n",
        "\n",
        "# learning rate - 0.001   | 0.0005  | 0.0001\n",
        "#   * accuracy  - 51.44%  | 51.854  | 42.12\n",
        "#   * loss      - 1.78    | 1.06    | 2.13\n",
        "\n",
        "# lr_schedueler - CosineAnnealingLR | CosineAnnealingWarmRestarts | StepLR\n",
        "#   * accuracy  - 54.97%            | 40.74%                      | 39.79%\n",
        "#   * loss      - 1.01              | 0.99                        | 1.04\n",
        "\n",
        "# optimizer     - Adam     | AdamW  | SGD\n",
        "#   * accuracy  - 55.05%   | 51.07% | 35.11%\n",
        "#   * loss      - 1.30     | 1.19   | 1.94"
      ],
      "execution_count": null,
      "outputs": []
    },
    {
      "cell_type": "markdown",
      "metadata": {
        "id": "mSDwneNFyVQE"
      },
      "source": [
        "ImageNet pre-trained MobileNetV2 model finetunes on Cifar10 Dataset.\n",
        "\n",
        "\n",
        "Load a MobileNetV2 model with pretrained weights using torchvision library, and replace the final classification layer using a new randomly initialized fully-connected layer and finetune on the Cifar10 Dataset. \n",
        "\n",
        "Two flavors of transfer learning\n",
        "\n",
        "(1) freezing all the MobileNetV2 layers (feature extraction) and only train the final classification layer; \n",
        "\n",
        "\n",
        "(2) finetuning all MobileNetV2 layers together with the final classification layer. \n",
        "\n",
        "(\"finetuning\" = model is further trained with small learning rate, thus the weights do not change significantly but it will hopefully lead to improved performance.) \n",
        "\n",
        "Report (in a text snippet in your notebook) the performance of the two models on train/test set."
      ]
    },
    {
      "cell_type": "code",
      "metadata": {
        "id": "0X9HiP7PKe3O",
        "colab": {
          "base_uri": "https://localhost:8080/",
          "height": 232
        },
        "outputId": "7a969cc2-615c-4162-92dc-af460ad4a922"
      },
      "source": [
        "transformed_train_dataset = CifarDataset('/data/cifar10_train/', transform=torchvision.transforms.Compose([Rescale(224),\n",
        "                                                                                               ToHCHW()]))\n",
        "transformed_train_dataloader = torch.utils.data.DataLoader(transformed_train_dataset,\n",
        "                                               batch_size=15,\n",
        "                                               shuffle=True)\n",
        "\n",
        "transformed_test_dataset = CifarDataset('/data/cifar10_test/', transform=torchvision.transforms.Compose([Rescale(224),\n",
        "                                                                                               ToTensor(),\n",
        "                                                                                               ToHCHW()]))\n",
        "transformed_test_dataloader = torch.utils.data.DataLoader(transformed_test_dataset,\n",
        "                                               batch_size=15,\n",
        "                                               shuffle=True)"
      ],
      "execution_count": null,
      "outputs": [
        {
          "output_type": "error",
          "ename": "NameError",
          "evalue": "ignored",
          "traceback": [
            "\u001b[0;31m---------------------------------------------------------------------------\u001b[0m",
            "\u001b[0;31mNameError\u001b[0m                                 Traceback (most recent call last)",
            "\u001b[0;32m<ipython-input-1-0e93414df8b4>\u001b[0m in \u001b[0;36m<module>\u001b[0;34m()\u001b[0m\n\u001b[0;32m----> 1\u001b[0;31m transformed_train_dataset = CifarDataset('/data/cifar10_train/', transform=torchvision.transforms.Compose([Rescale(224),\n\u001b[0m\u001b[1;32m      2\u001b[0m                                                                                                ToHCHW()]))\n\u001b[1;32m      3\u001b[0m transformed_train_dataloader = torch.utils.data.DataLoader(transformed_train_dataset,\n\u001b[1;32m      4\u001b[0m                                                \u001b[0mbatch_size\u001b[0m\u001b[0;34m=\u001b[0m\u001b[0;36m15\u001b[0m\u001b[0;34m,\u001b[0m\u001b[0;34m\u001b[0m\u001b[0;34m\u001b[0m\u001b[0m\n\u001b[1;32m      5\u001b[0m                                                shuffle=True)\n",
            "\u001b[0;31mNameError\u001b[0m: name 'CifarDataset' is not defined"
          ]
        }
      ]
    },
    {
      "cell_type": "code",
      "metadata": {
        "id": "mt57bxAXVqvJ"
      },
      "source": [
        "# hyperparams\n",
        "input_size = 224*224*3\n",
        "hidden_size = 350\n",
        "learning_rate = 0.0005\n",
        "max_epochs = 1\n",
        "num_classes = 10\n",
        "feature_extract = False"
      ],
      "execution_count": null,
      "outputs": []
    },
    {
      "cell_type": "code",
      "metadata": {
        "id": "4VqZFXEMnzv2"
      },
      "source": [
        "def set_parameter_requires_grad(model, feature_extracting):\n",
        "  '''\n",
        "    Deactive layers for feature extraction \n",
        "  '''\n",
        "  if feature_extracting:\n",
        "        for param in model.parameters():\n",
        "            param.requires_grad = False\n",
        "\n",
        "mobilenet_model = torch.hub.load('pytorch/vision:v0.9.0', 'mobilenet_v2', pretrained=True)\n",
        "\n",
        "set_parameter_requires_grad(mobilenet_model, feature_extract)\n",
        "\n",
        "# edit final classification layer\n",
        "num_ftrs = mobilenet_model.classifier[1].in_features\n",
        "mobilenet_model.classifier[1] =  nn.Linear(num_ftrs, num_classes)\n",
        "mobilenet_model.eval()\n",
        "\n",
        "\n",
        "# gather parameters to optimize\n",
        "\n",
        "params_to_update = mobilenet_model.parameters()\n",
        "if feature_extract:                                         #   feature extraction --> only update final layer\n",
        "    params_to_update = []\n",
        "    for name,param in mobilenet_model.named_parameters():\n",
        "        if param.requires_grad == True:\n",
        "            params_to_update.append(param)\n",
        "            print(\"\\t\",name)\n",
        "else:                                                       #   otherwise finetune\n",
        "    for name,param in mobilenet_model.named_parameters():\n",
        "        if param.requires_grad == True:\n",
        "            print(\"\\t\",name)"
      ],
      "execution_count": null,
      "outputs": []
    },
    {
      "cell_type": "code",
      "metadata": {
        "colab": {
          "base_uri": "https://localhost:8080/",
          "height": 137
        },
        "id": "Kk9GXmghaNa8",
        "outputId": "34c694f3-ecaf-458a-a0fe-4e606ca59a81"
      },
      "source": [
        "training(mobilenet_model, transformed_train_dataloader, max_epochs=1)\n",
        "batch_to_view = evaluation(mobilenet_model, transformed_test_dataloader)\n",
        "imshow(batch_to_view, transform=True)   "
      ],
      "execution_count": null,
      "outputs": [
        {
          "output_type": "display_data",
          "data": {
            "image/png": "[encoded data removed]",
            "text/plain": [
              "<Figure size 432x288 with 4 Axes>"
            ]
          },
          "metadata": {
            "tags": [],
            "needs_background": "light"
          }
        }
      ]
    },
    {
      "cell_type": "code",
      "metadata": {
        "id": "XxIJPm2yhAfG"
      },
      "source": [
        "#                     Accuracy    Loss\n",
        "# feature extraction:  76.69 %    0.91\n",
        "# fine tuning:         92.81 %    0.22"
      ],
      "execution_count": null,
      "outputs": []
    }
  ]
}